{
 "cells": [
  {
   "cell_type": "markdown",
   "id": "4eb0382f-b888-42d9-8cd4-b299727f29ea",
   "metadata": {},
   "source": [
    "# Introduction to C++"
   ]
  },
  {
   "cell_type": "markdown",
   "id": "cee57ad8",
   "metadata": {
    "slideshow": {
     "slide_type": "subslide"
    }
   },
   "source": [
    "Welcome to the C++ programming language! C++ is a powerful, high-performance language that is widely used in system/software development, game development, and applications requiring real-time processing.\n",
    "\n",
    "C++ is an extension of the C programming language, adding object-oriented features and other enhancements. It supports both procedural and object-oriented programming paradigms, making it versatile for various applications."
   ]
  },
  {
   "cell_type": "markdown",
   "id": "c32c5da6",
   "metadata": {},
   "source": [
    "We can list the main differences between C++ and Python (as most of you learned Python in CS106 or CS108) as follows:\n",
    "\n",
    "| Feature          | C++                          | Python                      |\n",
    "|------------------|------------------------------|-----------------------------|\n",
    "| Typing           | Statically typed             | Dynamically typed           |\n",
    "| Compilation      | Compiled                     | Interpreted                 |\n",
    "| Syntax           | More complex, requires semicolons and braces | Simpler, uses indentation |\n",
    "| Memory Management| Manual (using pointers)     | Automatic (garbage collection) |\n",
    "| Performance      | Generally faster            | Slower due to interpretation |\n",
    "| Libraries        | Extensive standard library, many third-party libraries | Extensive standard library, many third-party libraries |\n",
    "| Use Cases        | System programming, game development, real-time applications | Web development, data analysis, scripting |"
   ]
  },
  {
   "cell_type": "markdown",
   "id": "8bf45d61",
   "metadata": {},
   "source": [
    "* Regarding the **Typing System**, C++ is statically typed, meaning that variable types are known at compile time. This can lead to better performance and type safety but requires more upfront planning compared to Python's dynamic typing.\n",
    "* C++ is also **compiled**, which means that the code is translated into machine code before execution. This can lead to faster execution times compared to Python, which is interpreted at runtime.\n",
    "* C++ has a more **complex syntax** than Python, requiring semicolons to end statements and braces to define code blocks. This can make C++ code more verbose but also allows for more precise control over the code structure.\n",
    "* C++ requires **manual memory management**, often using pointers to allocate and deallocate memory. This gives programmers more control over memory usage but also increases the risk of memory leaks and pointer-related errors.\n",
    "* C++ generally offers **better performance** than Python due to its compiled nature and lower-level access to system resources. This makes it a preferred choice for applications where speed and efficiency are critical, such as game engines and real-time systems.\n",
    "* C++ has an **extensive standard library** that provides many useful functions and data structures, similar to Python's standard library. Additionally, there are many third-party libraries available for C++ that extend its capabilities."
   ]
  },
  {
   "cell_type": "markdown",
   "id": "6535a733",
   "metadata": {},
   "source": [
    "All of these concepts will be covered in more detail in the following sections of this course. We will start with the basics of C++ syntax, data types, and control structures, and gradually move on to more advanced topics such as object-oriented programming, templates, and the Standard Template Library (STL)."
   ]
  },
  {
   "cell_type": "markdown",
   "id": "3e3af79d",
   "metadata": {},
   "source": [
    "## Hello World in C++\n",
    "\n",
    "Let's start with a simple \"Hello, World!\" program in C++. This will give you a feel for the syntax and structure of a C++ program.\n",
    "\n",
    "```cpp\n",
    "#include <iostream> // Include the input-output stream library\n",
    "\n",
    "using namespace std; // Use the standard namespace\n",
    "\n",
    "int main() { // Main function where the program starts\n",
    "    cout << \"Hello, World!\" << endl; // Output \"Hello, World!\" to the console\n",
    "    return 0; // Return 0 to indicate successful execution\n",
    "}\n",
    "```\n",
    "\n",
    "In this example:\n",
    "\n",
    "- `#include <iostream>` includes the input-output stream library, which allows us to use `cout` for output.\n",
    "- `using namespace std;` allows us to use standard library features without prefixing them with `std::`.\n",
    "- `int main()` defines the main function where the program execution begins.\n",
    "- `cout << \"Hello, World!\" << endl;` outputs the string \"Hello, World!\" to the console, followed by a newline.\n",
    "- `return 0;` indicates that the program has executed successfully.\n",
    "\n",
    "This simple program demonstrates the basic structure of a C++ program, including the use of libraries, namespaces, and the main function. As we progress through this course, we will explore more complex features and concepts in C++."
   ]
  },
  {
   "cell_type": "markdown",
   "id": "e191727d",
   "metadata": {},
   "source": [
    "## Injection Operator\n",
    "\n",
    "In C++, the injection operator `<<` is used to send output to the standard output stream, typically the console. It is commonly used with `cout`, which is an instance of the output stream class.\n",
    "\n",
    "The injection operator can be used to output various types of data, including strings, numbers, and even complex objects, as long as they have an appropriate `operator<<` defined (more on this later in the course...).\n",
    "\n",
    "Here's a simple example of using the injection operator:\n",
    "\n",
    "```cpp\n",
    "#include <iostream>\n",
    "\n",
    "using namespace std;\n",
    "\n",
    "int main() {\n",
    "    int number = 42;\n",
    "    string text = \"The answer is\";\n",
    "\n",
    "    // Using the injection operator to output text and variables\n",
    "    cout << text << \" \" << number << endl;\n",
    "\n",
    "    return 0;\n",
    "}\n",
    "```\n",
    "\n",
    "In this example:\n",
    "\n",
    "- We include the `iostream` library to use `cout`.\n",
    "- We define a string `text` and an integer `number`.\n",
    "- We use the injection operator `<<` to output the string and the integer to the console, separated by a space.\n",
    "- The `endl` manipulator is used to insert a newline character and flush the output buffer.\n",
    "\n",
    "This demonstrates how the injection operator can be used to format output in C++. You can chain multiple `<<` operators to output multiple items in a single line, making it a powerful tool for displaying information in a readable format."
   ]
  },
  {
   "cell_type": "markdown",
   "id": "83e67ab3",
   "metadata": {},
   "source": [
    "```{note}\n",
    "The injection operator `<<` is not to be confused with the bitwise left shift operator in C++. The context in which it is used determines its meaning. In the case of `cout`, it is used for output, while in other contexts, it may perform a bitwise operation.\n",
    "```"
   ]
  },
  {
   "cell_type": "markdown",
   "id": "a78ecbf2",
   "metadata": {},
   "source": [
    "## A word about `flush`\n",
    "\n",
    "In C++, the `flush` manipulator is used to flush the output buffer of a stream, ensuring that all buffered output is written to the console or file immediately. This can be particularly useful when you want to ensure that output appears in real-time, especially in interactive applications or when debugging.\n",
    "\n",
    "Here's an example of using `flush` with `cout`:\n",
    "\n",
    "```cpp\n",
    "#include <iostream>\n",
    "#include <thread>\n",
    "#include <chrono>\n",
    "\n",
    "using namespace std;\n",
    "\n",
    "int main() {\n",
    "    cout << \"Processing...\" << flush; // Flush the output buffer\n",
    "    // Simulate some processing\n",
    "    for (int i = 0; i < 5; ++i) {\n",
    "        cout << \".\" << flush; // Output a dot and flush after each iteration\n",
    "        // Simulate a delay (e.g., sleep for 1 second)\n",
    "        this_thread::sleep_for(chrono::seconds(1));\n",
    "    }\n",
    "    cout << endl << \"Done!\" << endl; // Final output\n",
    "    return 0;\n",
    "}\n",
    "```\n",
    "\n",
    "Without the `flush` manipulator, the output may not appear immediately, especially if the program is running in a buffered environment. By using `flush`, we ensure that \"Processing...\" is displayed right away, and each dot appears in real-time as the loop iterates."
   ]
  }
 ],
 "metadata": {
  "kernelspec": {
   "display_name": ".venv",
   "language": "python",
   "name": "python3"
  },
  "language_info": {
   "codemirror_mode": {
    "name": "ipython",
    "version": 3
   },
   "file_extension": ".py",
   "mimetype": "text/x-python",
   "name": "python",
   "nbconvert_exporter": "python",
   "pygments_lexer": "ipython3",
   "version": "3.13.3"
  }
 },
 "nbformat": 4,
 "nbformat_minor": 5
}
